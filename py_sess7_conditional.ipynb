{
  "nbformat": 4,
  "nbformat_minor": 0,
  "metadata": {
    "colab": {
      "provenance": [],
      "authorship_tag": "ABX9TyMZ7gG44bslOQyWNWgA9JVG",
      "include_colab_link": true
    },
    "kernelspec": {
      "name": "python3",
      "display_name": "Python 3"
    },
    "language_info": {
      "name": "python"
    }
  },
  "cells": [
    {
      "cell_type": "markdown",
      "metadata": {
        "id": "view-in-github",
        "colab_type": "text"
      },
      "source": [
        "<a href=\"https://colab.research.google.com/github/ndevivel/python-360digmg/blob/py-sess7/py_sess7_conditional.ipynb\" target=\"_parent\"><img src=\"https://colab.research.google.com/assets/colab-badge.svg\" alt=\"Open In Colab\"/></a>"
      ]
    },
    {
      "cell_type": "code",
      "execution_count": null,
      "metadata": {
        "id": "us1RAOnw5fjW",
        "outputId": "ef52600c-46f4-4642-e413-10cca03a4513",
        "colab": {
          "base_uri": "https://localhost:8080/"
        }
      },
      "outputs": [
        {
          "output_type": "stream",
          "name": "stdout",
          "text": [
            "hi git\n"
          ]
        }
      ],
      "source": [
        "print('hi git')"
      ]
    },
    {
      "cell_type": "code",
      "source": [],
      "metadata": {
        "id": "WO7ZxJIBHcUl"
      },
      "execution_count": null,
      "outputs": []
    }
  ]
}